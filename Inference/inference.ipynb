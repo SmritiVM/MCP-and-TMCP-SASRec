{
 "cells": [
  {
   "cell_type": "code",
   "execution_count": 1,
   "metadata": {},
   "outputs": [
    {
     "name": "stderr",
     "output_type": "stream",
     "text": [
      "C:\\Users\\skhim\\AppData\\Local\\Temp\\ipykernel_8352\\1369181295.py:2: DeprecationWarning: \n",
      "Pyarrow will become a required dependency of pandas in the next major release of pandas (pandas 3.0),\n",
      "(to allow more performant data types, such as the Arrow string type, and better interoperability with other libraries)\n",
      "but was not found to be installed on your system.\n",
      "If this would cause problems for you,\n",
      "please provide us feedback at https://github.com/pandas-dev/pandas/issues/54466\n",
      "        \n",
      "  import pandas as pd\n"
     ]
    }
   ],
   "source": [
    "import numpy as np\n",
    "import pandas as pd\n",
    "import torch\n",
    "from collections import defaultdict"
   ]
  },
  {
   "cell_type": "code",
   "execution_count": 2,
   "metadata": {},
   "outputs": [
    {
     "data": {
      "text/plain": [
       "array([[   1, 2970],\n",
       "       [   1, 1179],\n",
       "       [   1, 1575],\n",
       "       ...,\n",
       "       [6040, 1619],\n",
       "       [6040,  156],\n",
       "       [6040, 1132]])"
      ]
     },
     "execution_count": 2,
     "metadata": {},
     "output_type": "execute_result"
    }
   ],
   "source": [
    "ratings = np.load('./data/movielens_ratings.npy')\n",
    "ratings"
   ]
  },
  {
   "cell_type": "code",
   "execution_count": 3,
   "metadata": {},
   "outputs": [],
   "source": [
    "def load_model_and_recommend(u, N, model_path):\n",
    "    model = torch.load(model_path, map_location=torch.device('cpu'))\n",
    "    model.eval()\n",
    "\n",
    "    user_history = defaultdict(list)\n",
    "    for row in ratings:\n",
    "        uid, iid = int(row[0]), int(row[1])\n",
    "        user_history[uid].append(iid)\n",
    "\n",
    "    if u not in user_history or len(user_history[u]) < 1:\n",
    "        print(f\"User {u} has no interactions.\")\n",
    "        return []\n",
    "\n",
    "    seq = np.zeros([50], dtype=np.int32)\n",
    "    idx = 50 - 1\n",
    "    for i in reversed(user_history[u]):\n",
    "        seq[idx] = i\n",
    "        idx -= 1\n",
    "        if idx < 0: break\n",
    "\n",
    "    rated_items = set(user_history[u])\n",
    "    candidates = [i for i in range(1, 3706 + 1) if i not in rated_items]\n",
    "\n",
    "    scores = -model.predict(np.array([u]), np.array([seq]), candidates)\n",
    "    top_indices = scores[0].argsort()[:N]\n",
    "    recommended_items = [candidates[i] for i in top_indices]\n",
    "\n",
    "    return recommended_items"
   ]
  },
  {
   "cell_type": "code",
   "execution_count": 4,
   "metadata": {},
   "outputs": [],
   "source": [
    "def get_movie_information(movie_indices, index_to_id_path='./data/movie_id_to_index.csv', movies_path='./data/movies.csv'):\n",
    "    index_to_id_df = pd.read_csv(index_to_id_path, header=None, names=['movieId', 'index'])\n",
    "    index_to_id = dict(zip(index_to_id_df['index'], index_to_id_df['movieId']))\n",
    "\n",
    "    movies_df = pd.read_csv(movies_path)\n",
    "    movieid_to_info = dict(zip(movies_df['movieId'], zip(movies_df['title'], movies_df['genres'])))\n",
    "\n",
    "    titles = []\n",
    "    titles_with_genres = []\n",
    "    genre_count = defaultdict(int)\n",
    "\n",
    "    for idx in movie_indices:\n",
    "        movie_id = index_to_id.get(idx)\n",
    "        title, genres = movieid_to_info.get(movie_id)\n",
    "        titles.append(title)\n",
    "        titles_with_genres.append((title, genres))\n",
    "        genres = genres.split('|')\n",
    "        for genre in genres:\n",
    "            genre_count[genre] += 1\n",
    "    return titles, titles_with_genres, genre_count\n"
   ]
  },
  {
   "cell_type": "code",
   "execution_count": 5,
   "metadata": {},
   "outputs": [],
   "source": [
    "def get_all_user_watched_movies(user_id):\n",
    "    user_ratings = ratings[ratings[:, 0] == user_id]\n",
    "    watched_movie_ids = np.unique(user_ratings[:, 1].astype(int))\n",
    "    return watched_movie_ids"
   ]
  },
  {
   "cell_type": "code",
   "execution_count": 6,
   "metadata": {},
   "outputs": [],
   "source": [
    "all_movie_indices = get_all_user_watched_movies(1)\n",
    "titles, titles_with_genres, genre_count = get_movie_information(all_movie_indices)"
   ]
  },
  {
   "cell_type": "code",
   "execution_count": 7,
   "metadata": {},
   "outputs": [
    {
     "data": {
      "text/plain": [
       "['Toy Story (1995)',\n",
       " 'Pocahontas (1995)',\n",
       " 'Apollo 13 (1995)',\n",
       " 'Star Wars: Episode IV - A New Hope (1977)',\n",
       " \"Schindler's List (1993)\",\n",
       " 'Secret Garden, The (1993)',\n",
       " 'Aladdin (1992)',\n",
       " 'Snow White and the Seven Dwarfs (1937)',\n",
       " 'Beauty and the Beast (1991)',\n",
       " 'Fargo (1996)',\n",
       " 'James and the Giant Peach (1996)',\n",
       " 'Wallace & Gromit: The Best of Aardman Animation (1996)',\n",
       " 'Close Shave, A (1995)',\n",
       " 'Hunchback of Notre Dame, The (1996)',\n",
       " 'My Fair Lady (1964)',\n",
       " 'Wizard of Oz, The (1939)',\n",
       " 'Gigi (1958)',\n",
       " 'Cinderella (1950)',\n",
       " 'Mary Poppins (1964)',\n",
       " 'Dumbo (1941)',\n",
       " 'Sound of Music, The (1965)',\n",
       " 'E.T. the Extra-Terrestrial (1982)',\n",
       " \"One Flew Over the Cuckoo's Nest (1975)\",\n",
       " 'Princess Bride, The (1987)',\n",
       " 'To Kill a Mockingbird (1962)',\n",
       " 'Dead Poets Society (1989)',\n",
       " 'Back to the Future (1985)',\n",
       " 'Ben-Hur (1959)',\n",
       " 'Ponette (1996)',\n",
       " 'Hercules (1997)',\n",
       " 'Titanic (1997)',\n",
       " 'Last Days of Disco, The (1998)',\n",
       " 'Mulan (1998)',\n",
       " 'Rain Man (1988)',\n",
       " 'Driving Miss Daisy (1989)',\n",
       " 'Bambi (1942)',\n",
       " 'Saving Private Ryan (1998)',\n",
       " 'Antz (1998)',\n",
       " 'Pleasantville (1998)',\n",
       " 'Meet Joe Black (1998)',\n",
       " \"Bug's Life, A (1998)\",\n",
       " 'Miracle on 34th Street (1947)',\n",
       " 'Tarzan (1999)',\n",
       " 'Run Lola Run (Lola rennt) (1998)',\n",
       " 'Sixth Sense, The (1999)',\n",
       " 'Airplane! (1980)',\n",
       " 'Big (1988)',\n",
       " 'Christmas Story, A (1983)',\n",
       " \"Ferris Bueller's Day Off (1986)\",\n",
       " 'Awakenings (1990)',\n",
       " 'Toy Story 2 (1999)',\n",
       " 'Girl, Interrupted (1999)',\n",
       " 'Erin Brockovich (2000)']"
      ]
     },
     "execution_count": 7,
     "metadata": {},
     "output_type": "execute_result"
    }
   ],
   "source": [
    "titles"
   ]
  },
  {
   "cell_type": "code",
   "execution_count": 8,
   "metadata": {},
   "outputs": [
    {
     "data": {
      "text/plain": [
       "[('Toy Story (1995)', \"Animation|Children's|Comedy\"),\n",
       " ('Pocahontas (1995)', \"Animation|Children's|Musical|Romance\"),\n",
       " ('Apollo 13 (1995)', 'Drama'),\n",
       " ('Star Wars: Episode IV - A New Hope (1977)',\n",
       "  'Action|Adventure|Fantasy|Sci-Fi'),\n",
       " (\"Schindler's List (1993)\", 'Drama|War'),\n",
       " ('Secret Garden, The (1993)', \"Children's|Drama\"),\n",
       " ('Aladdin (1992)', \"Animation|Children's|Comedy|Musical\"),\n",
       " ('Snow White and the Seven Dwarfs (1937)', \"Animation|Children's|Musical\"),\n",
       " ('Beauty and the Beast (1991)', \"Animation|Children's|Musical\"),\n",
       " ('Fargo (1996)', 'Crime|Drama|Thriller'),\n",
       " ('James and the Giant Peach (1996)', \"Animation|Children's|Musical\"),\n",
       " ('Wallace & Gromit: The Best of Aardman Animation (1996)', 'Animation'),\n",
       " ('Close Shave, A (1995)', 'Animation|Comedy|Thriller'),\n",
       " ('Hunchback of Notre Dame, The (1996)', \"Animation|Children's|Musical\"),\n",
       " ('My Fair Lady (1964)', 'Musical|Romance'),\n",
       " ('Wizard of Oz, The (1939)', \"Adventure|Children's|Drama|Musical\"),\n",
       " ('Gigi (1958)', 'Musical'),\n",
       " ('Cinderella (1950)', \"Animation|Children's|Musical\"),\n",
       " ('Mary Poppins (1964)', \"Children's|Comedy|Musical\"),\n",
       " ('Dumbo (1941)', \"Animation|Children's|Musical\"),\n",
       " ('Sound of Music, The (1965)', 'Musical'),\n",
       " ('E.T. the Extra-Terrestrial (1982)', \"Children's|Drama|Fantasy|Sci-Fi\"),\n",
       " (\"One Flew Over the Cuckoo's Nest (1975)\", 'Drama'),\n",
       " ('Princess Bride, The (1987)', 'Action|Adventure|Comedy|Romance'),\n",
       " ('To Kill a Mockingbird (1962)', 'Drama'),\n",
       " ('Dead Poets Society (1989)', 'Drama'),\n",
       " ('Back to the Future (1985)', 'Comedy|Sci-Fi'),\n",
       " ('Ben-Hur (1959)', 'Action|Adventure|Drama'),\n",
       " ('Ponette (1996)', 'Drama'),\n",
       " ('Hercules (1997)', \"Adventure|Animation|Children's|Comedy|Musical\"),\n",
       " ('Titanic (1997)', 'Drama|Romance'),\n",
       " ('Last Days of Disco, The (1998)', 'Drama'),\n",
       " ('Mulan (1998)', \"Animation|Children's\"),\n",
       " ('Rain Man (1988)', 'Drama'),\n",
       " ('Driving Miss Daisy (1989)', 'Drama'),\n",
       " ('Bambi (1942)', \"Animation|Children's\"),\n",
       " ('Saving Private Ryan (1998)', 'Action|Drama|War'),\n",
       " ('Antz (1998)', \"Animation|Children's\"),\n",
       " ('Pleasantville (1998)', 'Comedy'),\n",
       " ('Meet Joe Black (1998)', 'Romance'),\n",
       " (\"Bug's Life, A (1998)\", \"Animation|Children's|Comedy\"),\n",
       " ('Miracle on 34th Street (1947)', 'Drama'),\n",
       " ('Tarzan (1999)', \"Animation|Children's\"),\n",
       " ('Run Lola Run (Lola rennt) (1998)', 'Action|Crime|Romance'),\n",
       " ('Sixth Sense, The (1999)', 'Thriller'),\n",
       " ('Airplane! (1980)', 'Comedy'),\n",
       " ('Big (1988)', 'Comedy|Fantasy'),\n",
       " ('Christmas Story, A (1983)', 'Comedy|Drama'),\n",
       " (\"Ferris Bueller's Day Off (1986)\", 'Comedy'),\n",
       " ('Awakenings (1990)', 'Drama'),\n",
       " ('Toy Story 2 (1999)', \"Animation|Children's|Comedy\"),\n",
       " ('Girl, Interrupted (1999)', 'Drama'),\n",
       " ('Erin Brockovich (2000)', 'Drama')]"
      ]
     },
     "execution_count": 8,
     "metadata": {},
     "output_type": "execute_result"
    }
   ],
   "source": [
    "titles_with_genres"
   ]
  },
  {
   "cell_type": "code",
   "execution_count": 9,
   "metadata": {},
   "outputs": [
    {
     "data": {
      "text/plain": [
       "defaultdict(int,\n",
       "            {'Animation': 18,\n",
       "             \"Children's\": 20,\n",
       "             'Comedy': 14,\n",
       "             'Musical': 14,\n",
       "             'Romance': 6,\n",
       "             'Drama': 21,\n",
       "             'Action': 5,\n",
       "             'Adventure': 5,\n",
       "             'Fantasy': 3,\n",
       "             'Sci-Fi': 3,\n",
       "             'War': 2,\n",
       "             'Crime': 2,\n",
       "             'Thriller': 3})"
      ]
     },
     "execution_count": 9,
     "metadata": {},
     "output_type": "execute_result"
    }
   ],
   "source": [
    "genre_count"
   ]
  },
  {
   "cell_type": "code",
   "execution_count": 10,
   "metadata": {},
   "outputs": [
    {
     "data": {
      "text/plain": [
       "53"
      ]
     },
     "execution_count": 10,
     "metadata": {},
     "output_type": "execute_result"
    }
   ],
   "source": [
    "len(all_movie_indices)"
   ]
  },
  {
   "cell_type": "code",
   "execution_count": 11,
   "metadata": {},
   "outputs": [],
   "source": [
    "def get_top_genres(genre_count, top_k=5):\n",
    "    sorted_genres = sorted(genre_count.items(), key=lambda x: x[1], reverse=True)\n",
    "    return [g for g, _ in sorted_genres[:top_k]]\n"
   ]
  },
  {
   "cell_type": "code",
   "execution_count": 12,
   "metadata": {},
   "outputs": [],
   "source": [
    "top_genres = get_top_genres(genre_count)"
   ]
  },
  {
   "cell_type": "code",
   "execution_count": 13,
   "metadata": {},
   "outputs": [],
   "source": [
    "def calculate_relevancy_score(genres_string, top_genres):\n",
    "    recommended_genres = [g.strip().lower() for g in genres_string.split('|')]\n",
    "    top_genres = [g.strip().lower() for g in top_genres]\n",
    "\n",
    "    overlap = sum(1 for g in recommended_genres if g in top_genres)\n",
    "\n",
    "    if overlap >= 3:\n",
    "        label = \"Green\"   # very high relevance\n",
    "        score = 3\n",
    "    elif overlap == 2:\n",
    "        label = \"Blue\"    # high relevance\n",
    "        score = 2\n",
    "    elif overlap == 1:\n",
    "        label = \"Brown\"   # mid relevance\n",
    "        score = 1\n",
    "    else:\n",
    "        label = \"Red\"     # outlier\n",
    "        score = 0\n",
    "\n",
    "    return score, label\n"
   ]
  },
  {
   "cell_type": "code",
   "execution_count": 14,
   "metadata": {},
   "outputs": [],
   "source": [
    "def find_relevancy(titles_with_genres, top_genres):\n",
    "    for title, genres in titles_with_genres:\n",
    "        score, label = calculate_relevancy_score(genres, top_genres)\n",
    "        print(f\"{title:30s} {genres:40s} -> {label} (score={score})\")"
   ]
  },
  {
   "cell_type": "markdown",
   "metadata": {},
   "source": [
    "##### TMCP"
   ]
  },
  {
   "cell_type": "code",
   "execution_count": 15,
   "metadata": {},
   "outputs": [],
   "source": [
    "## TMCP_SASRec\n",
    "from tmcp import TemporalGCNLayer, PointWiseFeedForward, SASRec\n",
    "tmcp_recommended_indices = load_model_and_recommend(1, 10, model_path='./models/tmcp_sasrec_model_full.pth')\n",
    "titles, titles_with_genres, genre_count = get_movie_information(tmcp_recommended_indices)\n"
   ]
  },
  {
   "cell_type": "code",
   "execution_count": 16,
   "metadata": {},
   "outputs": [
    {
     "data": {
      "text/plain": [
       "['Lion King, The (1994)',\n",
       " 'Anastasia (1997)',\n",
       " 'Fantasia (1940)',\n",
       " 'Alice in Wonderland (1951)',\n",
       " 'Babe (1995)',\n",
       " 'Nightmare Before Christmas, The (1993)',\n",
       " 'Return of Jafar, The (1993)',\n",
       " 'Peter Pan (1953)',\n",
       " 'Little Mermaid, The (1989)',\n",
       " 'Lady and the Tramp (1955)']"
      ]
     },
     "execution_count": 16,
     "metadata": {},
     "output_type": "execute_result"
    }
   ],
   "source": [
    "titles"
   ]
  },
  {
   "cell_type": "code",
   "execution_count": 17,
   "metadata": {},
   "outputs": [
    {
     "data": {
      "text/plain": [
       "[('Lion King, The (1994)', \"Animation|Children's|Musical\"),\n",
       " ('Anastasia (1997)', \"Animation|Children's|Musical\"),\n",
       " ('Fantasia (1940)', \"Animation|Children's|Musical\"),\n",
       " ('Alice in Wonderland (1951)', \"Animation|Children's|Musical\"),\n",
       " ('Babe (1995)', \"Children's|Comedy|Drama\"),\n",
       " ('Nightmare Before Christmas, The (1993)', \"Children's|Comedy|Musical\"),\n",
       " ('Return of Jafar, The (1993)', \"Animation|Children's|Musical\"),\n",
       " ('Peter Pan (1953)', \"Animation|Children's|Fantasy|Musical\"),\n",
       " ('Little Mermaid, The (1989)', \"Animation|Children's|Comedy|Musical|Romance\"),\n",
       " ('Lady and the Tramp (1955)', \"Animation|Children's|Comedy|Musical|Romance\")]"
      ]
     },
     "execution_count": 17,
     "metadata": {},
     "output_type": "execute_result"
    }
   ],
   "source": [
    "titles_with_genres"
   ]
  },
  {
   "cell_type": "code",
   "execution_count": 18,
   "metadata": {},
   "outputs": [
    {
     "data": {
      "text/plain": [
       "defaultdict(int,\n",
       "            {'Animation': 8,\n",
       "             \"Children's\": 10,\n",
       "             'Musical': 9,\n",
       "             'Comedy': 4,\n",
       "             'Drama': 1,\n",
       "             'Fantasy': 1,\n",
       "             'Romance': 2})"
      ]
     },
     "execution_count": 18,
     "metadata": {},
     "output_type": "execute_result"
    }
   ],
   "source": [
    "genre_count"
   ]
  },
  {
   "cell_type": "code",
   "execution_count": 19,
   "metadata": {},
   "outputs": [
    {
     "name": "stdout",
     "output_type": "stream",
     "text": [
      "Lion King, The (1994)          Animation|Children's|Musical             -> Green (score=3)\n",
      "Anastasia (1997)               Animation|Children's|Musical             -> Green (score=3)\n",
      "Fantasia (1940)                Animation|Children's|Musical             -> Green (score=3)\n",
      "Alice in Wonderland (1951)     Animation|Children's|Musical             -> Green (score=3)\n",
      "Babe (1995)                    Children's|Comedy|Drama                  -> Green (score=3)\n",
      "Nightmare Before Christmas, The (1993) Children's|Comedy|Musical                -> Green (score=3)\n",
      "Return of Jafar, The (1993)    Animation|Children's|Musical             -> Green (score=3)\n",
      "Peter Pan (1953)               Animation|Children's|Fantasy|Musical     -> Green (score=3)\n",
      "Little Mermaid, The (1989)     Animation|Children's|Comedy|Musical|Romance -> Green (score=3)\n",
      "Lady and the Tramp (1955)      Animation|Children's|Comedy|Musical|Romance -> Green (score=3)\n"
     ]
    }
   ],
   "source": [
    "find_relevancy(titles_with_genres, top_genres)"
   ]
  },
  {
   "cell_type": "markdown",
   "metadata": {},
   "source": [
    "##### MCP"
   ]
  },
  {
   "cell_type": "code",
   "execution_count": 20,
   "metadata": {},
   "outputs": [],
   "source": [
    "## MCP_SASRec\n",
    "from mcp import GCNLayer, PointWiseFeedForward, SASRec\n",
    "mcp_recommended_indices = load_model_and_recommend(1, 10, model_path='./models/mcp_sasrec_model_full.pth')\n",
    "titles, titles_with_genres, genre_count = get_movie_information(mcp_recommended_indices)"
   ]
  },
  {
   "cell_type": "code",
   "execution_count": 21,
   "metadata": {},
   "outputs": [
    {
     "data": {
      "text/plain": [
       "['Lion King, The (1994)',\n",
       " 'Anastasia (1997)',\n",
       " 'Nightmare Before Christmas, The (1993)',\n",
       " '101 Dalmatians (1961)',\n",
       " 'South Park: Bigger, Longer and Uncut (1999)',\n",
       " 'Beavis and Butt-head Do America (1996)',\n",
       " 'Balto (1995)',\n",
       " 'Alice in Wonderland (1951)',\n",
       " 'Prince of Egypt, The (1998)',\n",
       " 'Return of Jafar, The (1993)']"
      ]
     },
     "execution_count": 21,
     "metadata": {},
     "output_type": "execute_result"
    }
   ],
   "source": [
    "titles"
   ]
  },
  {
   "cell_type": "code",
   "execution_count": 22,
   "metadata": {},
   "outputs": [
    {
     "data": {
      "text/plain": [
       "[('Lion King, The (1994)', \"Animation|Children's|Musical\"),\n",
       " ('Anastasia (1997)', \"Animation|Children's|Musical\"),\n",
       " ('Nightmare Before Christmas, The (1993)', \"Children's|Comedy|Musical\"),\n",
       " ('101 Dalmatians (1961)', \"Animation|Children's\"),\n",
       " ('South Park: Bigger, Longer and Uncut (1999)', 'Animation|Comedy'),\n",
       " ('Beavis and Butt-head Do America (1996)', 'Animation|Comedy'),\n",
       " ('Balto (1995)', \"Animation|Children's\"),\n",
       " ('Alice in Wonderland (1951)', \"Animation|Children's|Musical\"),\n",
       " ('Prince of Egypt, The (1998)', 'Animation|Musical'),\n",
       " ('Return of Jafar, The (1993)', \"Animation|Children's|Musical\")]"
      ]
     },
     "execution_count": 22,
     "metadata": {},
     "output_type": "execute_result"
    }
   ],
   "source": [
    "titles_with_genres"
   ]
  },
  {
   "cell_type": "code",
   "execution_count": 23,
   "metadata": {},
   "outputs": [
    {
     "data": {
      "text/plain": [
       "defaultdict(int, {'Animation': 9, \"Children's\": 7, 'Musical': 6, 'Comedy': 3})"
      ]
     },
     "execution_count": 23,
     "metadata": {},
     "output_type": "execute_result"
    }
   ],
   "source": [
    "genre_count"
   ]
  },
  {
   "cell_type": "code",
   "execution_count": 24,
   "metadata": {},
   "outputs": [
    {
     "name": "stdout",
     "output_type": "stream",
     "text": [
      "Lion King, The (1994)          Animation|Children's|Musical             -> Green (score=3)\n",
      "Anastasia (1997)               Animation|Children's|Musical             -> Green (score=3)\n",
      "Nightmare Before Christmas, The (1993) Children's|Comedy|Musical                -> Green (score=3)\n",
      "101 Dalmatians (1961)          Animation|Children's                     -> Blue (score=2)\n",
      "South Park: Bigger, Longer and Uncut (1999) Animation|Comedy                         -> Blue (score=2)\n",
      "Beavis and Butt-head Do America (1996) Animation|Comedy                         -> Blue (score=2)\n",
      "Balto (1995)                   Animation|Children's                     -> Blue (score=2)\n",
      "Alice in Wonderland (1951)     Animation|Children's|Musical             -> Green (score=3)\n",
      "Prince of Egypt, The (1998)    Animation|Musical                        -> Blue (score=2)\n",
      "Return of Jafar, The (1993)    Animation|Children's|Musical             -> Green (score=3)\n"
     ]
    }
   ],
   "source": [
    "find_relevancy(titles_with_genres, top_genres)"
   ]
  },
  {
   "cell_type": "markdown",
   "metadata": {},
   "source": [
    "##### GES"
   ]
  },
  {
   "cell_type": "code",
   "execution_count": 25,
   "metadata": {},
   "outputs": [],
   "source": [
    "from ges import GCNLayer, PointWiseFeedForward, SASRec\n",
    "ges_recommended_indices = load_model_and_recommend(1, 10, model_path='./models/ges_sasrec_model_full.pth')\n",
    "titles, titles_with_genres, genre_count = get_movie_information(ges_recommended_indices)"
   ]
  },
  {
   "cell_type": "code",
   "execution_count": 26,
   "metadata": {},
   "outputs": [
    {
     "data": {
      "text/plain": [
       "['Lion King, The (1994)',\n",
       " 'Prince of Egypt, The (1998)',\n",
       " 'Shakespeare in Love (1998)',\n",
       " 'Babe (1995)',\n",
       " 'Santa Clause, The (1994)',\n",
       " 'Alice in Wonderland (1951)',\n",
       " 'Mask, The (1994)',\n",
       " 'Sleeping Beauty (1959)',\n",
       " 'Jungle Book, The (1967)',\n",
       " 'Lady and the Tramp (1955)']"
      ]
     },
     "execution_count": 26,
     "metadata": {},
     "output_type": "execute_result"
    }
   ],
   "source": [
    "titles"
   ]
  },
  {
   "cell_type": "code",
   "execution_count": 27,
   "metadata": {},
   "outputs": [
    {
     "data": {
      "text/plain": [
       "[('Lion King, The (1994)', \"Animation|Children's|Musical\"),\n",
       " ('Prince of Egypt, The (1998)', 'Animation|Musical'),\n",
       " ('Shakespeare in Love (1998)', 'Comedy|Romance'),\n",
       " ('Babe (1995)', \"Children's|Comedy|Drama\"),\n",
       " ('Santa Clause, The (1994)', \"Children's|Comedy|Fantasy\"),\n",
       " ('Alice in Wonderland (1951)', \"Animation|Children's|Musical\"),\n",
       " ('Mask, The (1994)', 'Comedy|Crime|Fantasy'),\n",
       " ('Sleeping Beauty (1959)', \"Animation|Children's|Musical\"),\n",
       " ('Jungle Book, The (1967)', \"Animation|Children's|Comedy|Musical\"),\n",
       " ('Lady and the Tramp (1955)', \"Animation|Children's|Comedy|Musical|Romance\")]"
      ]
     },
     "execution_count": 27,
     "metadata": {},
     "output_type": "execute_result"
    }
   ],
   "source": [
    "titles_with_genres"
   ]
  },
  {
   "cell_type": "code",
   "execution_count": 28,
   "metadata": {},
   "outputs": [
    {
     "data": {
      "text/plain": [
       "defaultdict(int,\n",
       "            {'Animation': 6,\n",
       "             \"Children's\": 7,\n",
       "             'Musical': 6,\n",
       "             'Comedy': 6,\n",
       "             'Romance': 2,\n",
       "             'Drama': 1,\n",
       "             'Fantasy': 2,\n",
       "             'Crime': 1})"
      ]
     },
     "execution_count": 28,
     "metadata": {},
     "output_type": "execute_result"
    }
   ],
   "source": [
    "genre_count"
   ]
  },
  {
   "cell_type": "code",
   "execution_count": 29,
   "metadata": {},
   "outputs": [
    {
     "name": "stdout",
     "output_type": "stream",
     "text": [
      "Lion King, The (1994)          Animation|Children's|Musical             -> Green (score=3)\n",
      "Prince of Egypt, The (1998)    Animation|Musical                        -> Blue (score=2)\n",
      "Shakespeare in Love (1998)     Comedy|Romance                           -> Brown (score=1)\n",
      "Babe (1995)                    Children's|Comedy|Drama                  -> Green (score=3)\n",
      "Santa Clause, The (1994)       Children's|Comedy|Fantasy                -> Blue (score=2)\n",
      "Alice in Wonderland (1951)     Animation|Children's|Musical             -> Green (score=3)\n",
      "Mask, The (1994)               Comedy|Crime|Fantasy                     -> Brown (score=1)\n",
      "Sleeping Beauty (1959)         Animation|Children's|Musical             -> Green (score=3)\n",
      "Jungle Book, The (1967)        Animation|Children's|Comedy|Musical      -> Green (score=3)\n",
      "Lady and the Tramp (1955)      Animation|Children's|Comedy|Musical|Romance -> Green (score=3)\n"
     ]
    }
   ],
   "source": [
    "find_relevancy(titles_with_genres, top_genres)"
   ]
  },
  {
   "cell_type": "markdown",
   "metadata": {},
   "source": [
    "##### SASRec"
   ]
  },
  {
   "cell_type": "code",
   "execution_count": 30,
   "metadata": {},
   "outputs": [],
   "source": [
    "## SASRec\n",
    "from sasrec import PointWiseFeedForward, SASRec\n",
    "sasrec_recommended_indices = load_model_and_recommend(1, 10, model_path='./models/sasrec_model.pth')\n",
    "titles, titles_with_genres, genre_count = get_movie_information(sasrec_recommended_indices)"
   ]
  },
  {
   "cell_type": "code",
   "execution_count": 31,
   "metadata": {},
   "outputs": [
    {
     "data": {
      "text/plain": [
       "['Tarzan and the Lost City (1998)',\n",
       " 'Sheltering Sky, The (1990)',\n",
       " 'Rebel Without a Cause (1955)',\n",
       " 'Phat Beach (1996)',\n",
       " 'Red Rock West (1992)',\n",
       " 'Talk of Angels (1998)',\n",
       " 'Best Years of Our Lives, The (1946)',\n",
       " 'Faces (1968)',\n",
       " 'Siege, The (1998)',\n",
       " 'Days of Thunder (1990)']"
      ]
     },
     "execution_count": 31,
     "metadata": {},
     "output_type": "execute_result"
    }
   ],
   "source": [
    "titles"
   ]
  },
  {
   "cell_type": "code",
   "execution_count": 32,
   "metadata": {},
   "outputs": [
    {
     "data": {
      "text/plain": [
       "[('Tarzan and the Lost City (1998)', 'Action|Adventure'),\n",
       " ('Sheltering Sky, The (1990)', 'Drama'),\n",
       " ('Rebel Without a Cause (1955)', 'Drama'),\n",
       " ('Phat Beach (1996)', 'Comedy'),\n",
       " ('Red Rock West (1992)', 'Thriller'),\n",
       " ('Talk of Angels (1998)', 'Drama'),\n",
       " ('Best Years of Our Lives, The (1946)', 'Drama|War'),\n",
       " ('Faces (1968)', 'Drama'),\n",
       " ('Siege, The (1998)', 'Action|Thriller'),\n",
       " ('Days of Thunder (1990)', 'Action|Romance')]"
      ]
     },
     "execution_count": 32,
     "metadata": {},
     "output_type": "execute_result"
    }
   ],
   "source": [
    "titles_with_genres"
   ]
  },
  {
   "cell_type": "code",
   "execution_count": 33,
   "metadata": {},
   "outputs": [
    {
     "data": {
      "text/plain": [
       "defaultdict(int,\n",
       "            {'Action': 3,\n",
       "             'Adventure': 1,\n",
       "             'Drama': 5,\n",
       "             'Comedy': 1,\n",
       "             'Thriller': 2,\n",
       "             'War': 1,\n",
       "             'Romance': 1})"
      ]
     },
     "execution_count": 33,
     "metadata": {},
     "output_type": "execute_result"
    }
   ],
   "source": [
    "genre_count"
   ]
  },
  {
   "cell_type": "code",
   "execution_count": 34,
   "metadata": {},
   "outputs": [
    {
     "name": "stdout",
     "output_type": "stream",
     "text": [
      "Tarzan and the Lost City (1998) Action|Adventure                         -> Red (score=0)\n",
      "Sheltering Sky, The (1990)     Drama                                    -> Brown (score=1)\n",
      "Rebel Without a Cause (1955)   Drama                                    -> Brown (score=1)\n",
      "Phat Beach (1996)              Comedy                                   -> Brown (score=1)\n",
      "Red Rock West (1992)           Thriller                                 -> Red (score=0)\n",
      "Talk of Angels (1998)          Drama                                    -> Brown (score=1)\n",
      "Best Years of Our Lives, The (1946) Drama|War                                -> Brown (score=1)\n",
      "Faces (1968)                   Drama                                    -> Brown (score=1)\n",
      "Siege, The (1998)              Action|Thriller                          -> Red (score=0)\n",
      "Days of Thunder (1990)         Action|Romance                           -> Red (score=0)\n"
     ]
    }
   ],
   "source": [
    "find_relevancy(titles_with_genres, top_genres)"
   ]
  }
 ],
 "metadata": {
  "kernelspec": {
   "display_name": "Python 3",
   "language": "python",
   "name": "python3"
  },
  "language_info": {
   "codemirror_mode": {
    "name": "ipython",
    "version": 3
   },
   "file_extension": ".py",
   "mimetype": "text/x-python",
   "name": "python",
   "nbconvert_exporter": "python",
   "pygments_lexer": "ipython3",
   "version": "3.10.9"
  }
 },
 "nbformat": 4,
 "nbformat_minor": 2
}
